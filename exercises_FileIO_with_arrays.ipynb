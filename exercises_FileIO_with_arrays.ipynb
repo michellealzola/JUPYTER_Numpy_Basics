{
 "cells": [
  {
   "cell_type": "code",
   "execution_count": 1,
   "metadata": {
    "collapsed": true
   },
   "outputs": [],
   "source": [
    "# Create a NumPy array of shape (3, 4) with random\n",
    "# values and save it to a file called \"array_data.npy\".\n"
   ]
  },
  {
   "cell_type": "code",
   "execution_count": 2,
   "outputs": [],
   "source": [
    "import matplotlib.pyplot as plt\n",
    "import numpy as np\n",
    "import random\n"
   ],
   "metadata": {
    "collapsed": false
   }
  },
  {
   "cell_type": "code",
   "execution_count": 3,
   "outputs": [],
   "source": [
    "arr = np.random.randint(27, 81, size=(3, 4))\n"
   ],
   "metadata": {
    "collapsed": false
   }
  },
  {
   "cell_type": "code",
   "execution_count": 4,
   "outputs": [
    {
     "data": {
      "text/plain": "array([[77, 39, 54, 64],\n       [32, 66, 74, 52],\n       [77, 43, 46, 57]])"
     },
     "execution_count": 4,
     "metadata": {},
     "output_type": "execute_result"
    }
   ],
   "source": [
    "arr\n"
   ],
   "metadata": {
    "collapsed": false
   }
  },
  {
   "cell_type": "code",
   "execution_count": 5,
   "outputs": [],
   "source": [
    "np.save('first_array', arr)\n"
   ],
   "metadata": {
    "collapsed": false
   }
  },
  {
   "cell_type": "code",
   "execution_count": 6,
   "outputs": [
    {
     "data": {
      "text/plain": "array([[77, 39, 54, 64],\n       [32, 66, 74, 52],\n       [77, 43, 46, 57]])"
     },
     "execution_count": 6,
     "metadata": {},
     "output_type": "execute_result"
    }
   ],
   "source": [
    "np.load('first_array.npy')\n"
   ],
   "metadata": {
    "collapsed": false
   }
  },
  {
   "cell_type": "code",
   "execution_count": 7,
   "outputs": [],
   "source": [
    "# Load the array from \"first_array.npy\" and print its shape and contents.\n"
   ],
   "metadata": {
    "collapsed": false
   }
  },
  {
   "cell_type": "code",
   "execution_count": 8,
   "outputs": [],
   "source": [
    "array_load = np.load('first_array.npy')\n"
   ],
   "metadata": {
    "collapsed": false
   }
  },
  {
   "cell_type": "code",
   "execution_count": 9,
   "outputs": [
    {
     "data": {
      "text/plain": "array([[77, 39, 54, 64],\n       [32, 66, 74, 52],\n       [77, 43, 46, 57]])"
     },
     "execution_count": 9,
     "metadata": {},
     "output_type": "execute_result"
    }
   ],
   "source": [
    "array_load\n"
   ],
   "metadata": {
    "collapsed": false
   }
  },
  {
   "cell_type": "code",
   "execution_count": 11,
   "outputs": [
    {
     "data": {
      "text/plain": "(3, 4)"
     },
     "execution_count": 11,
     "metadata": {},
     "output_type": "execute_result"
    }
   ],
   "source": [
    "array_load.shape\n"
   ],
   "metadata": {
    "collapsed": false
   }
  },
  {
   "cell_type": "code",
   "execution_count": 12,
   "outputs": [],
   "source": [
    "# Create a NumPy array of shape (2, 3) with integer values\n",
    "# and save it to a text file called \"array_data.txt\".\n"
   ],
   "metadata": {
    "collapsed": false
   }
  },
  {
   "cell_type": "code",
   "execution_count": 13,
   "outputs": [],
   "source": [
    "arr = np.random.randint(35, 97, size=(2, 3))\n"
   ],
   "metadata": {
    "collapsed": false
   }
  },
  {
   "cell_type": "code",
   "execution_count": 14,
   "outputs": [
    {
     "data": {
      "text/plain": "array([[50, 71, 36],\n       [51, 37, 68]])"
     },
     "execution_count": 14,
     "metadata": {},
     "output_type": "execute_result"
    }
   ],
   "source": [
    "arr\n"
   ],
   "metadata": {
    "collapsed": false
   }
  },
  {
   "cell_type": "code",
   "execution_count": 16,
   "outputs": [],
   "source": [
    "np.savetxt('array_data.txt', arr)\n"
   ],
   "metadata": {
    "collapsed": false
   }
  },
  {
   "cell_type": "code",
   "execution_count": 18,
   "outputs": [
    {
     "data": {
      "text/plain": "array([[50., 71., 36.],\n       [51., 37., 68.]])"
     },
     "execution_count": 18,
     "metadata": {},
     "output_type": "execute_result"
    }
   ],
   "source": [
    "np.loadtxt('array_data.txt')\n"
   ],
   "metadata": {
    "collapsed": false
   }
  },
  {
   "cell_type": "code",
   "execution_count": 19,
   "outputs": [],
   "source": [
    "# Load the array from \"array_data.txt\" and print its shape and contents.\n"
   ],
   "metadata": {
    "collapsed": false
   }
  },
  {
   "cell_type": "code",
   "execution_count": 20,
   "outputs": [],
   "source": [
    "arr_load_txt = np.loadtxt('array_data.txt')\n"
   ],
   "metadata": {
    "collapsed": false
   }
  },
  {
   "cell_type": "code",
   "execution_count": 21,
   "outputs": [
    {
     "data": {
      "text/plain": "array([[50., 71., 36.],\n       [51., 37., 68.]])"
     },
     "execution_count": 21,
     "metadata": {},
     "output_type": "execute_result"
    }
   ],
   "source": [
    "arr_load_txt\n"
   ],
   "metadata": {
    "collapsed": false
   }
  },
  {
   "cell_type": "code",
   "execution_count": 22,
   "outputs": [
    {
     "data": {
      "text/plain": "(2, 3)"
     },
     "execution_count": 22,
     "metadata": {},
     "output_type": "execute_result"
    }
   ],
   "source": [
    "arr_load_txt.shape\n"
   ],
   "metadata": {
    "collapsed": false
   }
  },
  {
   "cell_type": "code",
   "execution_count": 23,
   "outputs": [],
   "source": [
    "# Create a NumPy array of shape (3, 2) with complex\n",
    "# values and save it to a binary file called \"array_data.bin\".\n"
   ],
   "metadata": {
    "collapsed": false
   }
  },
  {
   "cell_type": "code",
   "execution_count": 24,
   "outputs": [],
   "source": [
    "arr_complex = np.array([[3+5j, 8+3j], [4+7j, 1+2j], [5+11j, 9+10j]])\n"
   ],
   "metadata": {
    "collapsed": false
   }
  },
  {
   "cell_type": "code",
   "execution_count": 26,
   "outputs": [],
   "source": [
    "arr_complex.tofile('array_data.bin')\n"
   ],
   "metadata": {
    "collapsed": false
   }
  },
  {
   "cell_type": "code",
   "execution_count": 27,
   "outputs": [],
   "source": [
    "arr_from_bin = np.fromfile('array_data.bin', dtype=complex)\n"
   ],
   "metadata": {
    "collapsed": false
   }
  },
  {
   "cell_type": "code",
   "execution_count": 28,
   "outputs": [
    {
     "data": {
      "text/plain": "array([3. +5.j, 8. +3.j, 4. +7.j, 1. +2.j, 5.+11.j, 9.+10.j])"
     },
     "execution_count": 28,
     "metadata": {},
     "output_type": "execute_result"
    }
   ],
   "source": [
    "arr_from_bin\n"
   ],
   "metadata": {
    "collapsed": false
   }
  },
  {
   "cell_type": "code",
   "execution_count": 30,
   "outputs": [
    {
     "data": {
      "text/plain": "array([[3. +5.j, 8. +3.j],\n       [4. +7.j, 1. +2.j],\n       [5.+11.j, 9.+10.j]])"
     },
     "execution_count": 30,
     "metadata": {},
     "output_type": "execute_result"
    }
   ],
   "source": [
    "arr_from_bin.reshape((3, 2))\n"
   ],
   "metadata": {
    "collapsed": false
   }
  },
  {
   "cell_type": "code",
   "execution_count": 31,
   "outputs": [],
   "source": [
    "# Create a NumPy array of shape (100, 2) with random values\n",
    "# representing x and y coordinates, and save it to a CSV file\n",
    "# called \"points.csv\" with the first column containing x values\n",
    "# and the second column containing y values.\n"
   ],
   "metadata": {
    "collapsed": false
   }
  },
  {
   "cell_type": "code",
   "execution_count": 35,
   "outputs": [],
   "source": [
    "arr = np.random.random((100, 2))\n"
   ],
   "metadata": {
    "collapsed": false
   }
  },
  {
   "cell_type": "code",
   "execution_count": 36,
   "outputs": [
    {
     "data": {
      "text/plain": "array([[0.01149641, 0.65549452],\n       [0.33348265, 0.08630312],\n       [0.63629575, 0.1587334 ],\n       [0.48762506, 0.95670078],\n       [0.31111029, 0.1768127 ],\n       [0.01115694, 0.53244884],\n       [0.32363395, 0.54358667],\n       [0.71028915, 0.28012171],\n       [0.73108524, 0.84755694],\n       [0.66256367, 0.45179514],\n       [0.7159766 , 0.18112359],\n       [0.96488328, 0.23630141],\n       [0.88216883, 0.25596584],\n       [0.80788144, 0.13406204],\n       [0.36584744, 0.96422862],\n       [0.48527046, 0.05504504],\n       [0.10253376, 0.69150512],\n       [0.54178474, 0.01551463],\n       [0.23068379, 0.28128539],\n       [0.93410976, 0.12493909],\n       [0.51432354, 0.28801867],\n       [0.30980993, 0.45631789],\n       [0.94425338, 0.87851499],\n       [0.37037445, 0.76131808],\n       [0.23731445, 0.15124621],\n       [0.33312422, 0.29099712],\n       [0.84649399, 0.15614126],\n       [0.72713307, 0.75242326],\n       [0.29028398, 0.30460372],\n       [0.44114359, 0.29277184],\n       [0.84648827, 0.04970532],\n       [0.39465812, 0.79239611],\n       [0.00587127, 0.97540613],\n       [0.15978228, 0.80050909],\n       [0.80131741, 0.73790462],\n       [0.62847181, 0.73532246],\n       [0.305259  , 0.44649635],\n       [0.39473786, 0.82772228],\n       [0.98539963, 0.95805245],\n       [0.47393115, 0.73023618],\n       [0.13479889, 0.73625346],\n       [0.92289719, 0.526824  ],\n       [0.74429619, 0.80978181],\n       [0.11258503, 0.51094555],\n       [0.70490296, 0.37305859],\n       [0.68005076, 0.78556304],\n       [0.14251107, 0.38223244],\n       [0.11928237, 0.794066  ],\n       [0.92741241, 0.13111907],\n       [0.76505899, 0.15963107],\n       [0.34775602, 0.08659335],\n       [0.35756068, 0.79714943],\n       [0.6619652 , 0.02956337],\n       [0.02384367, 0.11939278],\n       [0.77193196, 0.93845776],\n       [0.2662063 , 0.48077348],\n       [0.81064827, 0.12186223],\n       [0.80906437, 0.57491592],\n       [0.63837559, 0.38922425],\n       [0.49737538, 0.21173917],\n       [0.00712024, 0.40072754],\n       [0.13864619, 0.90510469],\n       [0.00577125, 0.34630085],\n       [0.08194115, 0.1715832 ],\n       [0.30346458, 0.26414642],\n       [0.04723166, 0.64416727],\n       [0.7129449 , 0.66841893],\n       [0.73156651, 0.2126636 ],\n       [0.22745138, 0.43591671],\n       [0.06110116, 0.71873019],\n       [0.02492607, 0.60948219],\n       [0.13558782, 0.60306729],\n       [0.66865006, 0.29003805],\n       [0.82186618, 0.13102419],\n       [0.09758257, 0.08165507],\n       [0.04335946, 0.93168078],\n       [0.00776474, 0.32548725],\n       [0.18719606, 0.01997985],\n       [0.29687303, 0.28235452],\n       [0.64912839, 0.85620723],\n       [0.07908838, 0.82014115],\n       [0.90210111, 0.30781002],\n       [0.8338392 , 0.42004279],\n       [0.91723927, 0.06017131],\n       [0.17464959, 0.45753909],\n       [0.41776155, 0.42109784],\n       [0.78537799, 0.14734363],\n       [0.26157502, 0.0752572 ],\n       [0.63603275, 0.97018501],\n       [0.65985695, 0.4551511 ],\n       [0.95095342, 0.52337122],\n       [0.78920691, 0.47801689],\n       [0.04373492, 0.84880286],\n       [0.47413486, 0.64919106],\n       [0.85317996, 0.83119285],\n       [0.72781346, 0.61988741],\n       [0.26574547, 0.71917074],\n       [0.90350603, 0.427568  ],\n       [0.88183628, 0.0977123 ],\n       [0.77973809, 0.80125279]])"
     },
     "execution_count": 36,
     "metadata": {},
     "output_type": "execute_result"
    }
   ],
   "source": [
    "arr\n"
   ],
   "metadata": {
    "collapsed": false
   }
  },
  {
   "cell_type": "code",
   "execution_count": 37,
   "outputs": [],
   "source": [
    "np.savetxt('points.csv', arr, delimiter=', ')\n"
   ],
   "metadata": {
    "collapsed": false
   }
  },
  {
   "cell_type": "code",
   "execution_count": 38,
   "outputs": [],
   "source": [
    "# Load the array from \"points.csv\" and plot the points using Matplotlib.\n"
   ],
   "metadata": {
    "collapsed": false
   }
  },
  {
   "cell_type": "code",
   "execution_count": 40,
   "outputs": [],
   "source": [
    "arr_load = np.loadtxt('points.csv', delimiter=',')\n"
   ],
   "metadata": {
    "collapsed": false
   }
  },
  {
   "cell_type": "code",
   "execution_count": 41,
   "outputs": [
    {
     "data": {
      "text/plain": "array([[0.01149641, 0.65549452],\n       [0.33348265, 0.08630312],\n       [0.63629575, 0.1587334 ],\n       [0.48762506, 0.95670078],\n       [0.31111029, 0.1768127 ],\n       [0.01115694, 0.53244884],\n       [0.32363395, 0.54358667],\n       [0.71028915, 0.28012171],\n       [0.73108524, 0.84755694],\n       [0.66256367, 0.45179514],\n       [0.7159766 , 0.18112359],\n       [0.96488328, 0.23630141],\n       [0.88216883, 0.25596584],\n       [0.80788144, 0.13406204],\n       [0.36584744, 0.96422862],\n       [0.48527046, 0.05504504],\n       [0.10253376, 0.69150512],\n       [0.54178474, 0.01551463],\n       [0.23068379, 0.28128539],\n       [0.93410976, 0.12493909],\n       [0.51432354, 0.28801867],\n       [0.30980993, 0.45631789],\n       [0.94425338, 0.87851499],\n       [0.37037445, 0.76131808],\n       [0.23731445, 0.15124621],\n       [0.33312422, 0.29099712],\n       [0.84649399, 0.15614126],\n       [0.72713307, 0.75242326],\n       [0.29028398, 0.30460372],\n       [0.44114359, 0.29277184],\n       [0.84648827, 0.04970532],\n       [0.39465812, 0.79239611],\n       [0.00587127, 0.97540613],\n       [0.15978228, 0.80050909],\n       [0.80131741, 0.73790462],\n       [0.62847181, 0.73532246],\n       [0.305259  , 0.44649635],\n       [0.39473786, 0.82772228],\n       [0.98539963, 0.95805245],\n       [0.47393115, 0.73023618],\n       [0.13479889, 0.73625346],\n       [0.92289719, 0.526824  ],\n       [0.74429619, 0.80978181],\n       [0.11258503, 0.51094555],\n       [0.70490296, 0.37305859],\n       [0.68005076, 0.78556304],\n       [0.14251107, 0.38223244],\n       [0.11928237, 0.794066  ],\n       [0.92741241, 0.13111907],\n       [0.76505899, 0.15963107],\n       [0.34775602, 0.08659335],\n       [0.35756068, 0.79714943],\n       [0.6619652 , 0.02956337],\n       [0.02384367, 0.11939278],\n       [0.77193196, 0.93845776],\n       [0.2662063 , 0.48077348],\n       [0.81064827, 0.12186223],\n       [0.80906437, 0.57491592],\n       [0.63837559, 0.38922425],\n       [0.49737538, 0.21173917],\n       [0.00712024, 0.40072754],\n       [0.13864619, 0.90510469],\n       [0.00577125, 0.34630085],\n       [0.08194115, 0.1715832 ],\n       [0.30346458, 0.26414642],\n       [0.04723166, 0.64416727],\n       [0.7129449 , 0.66841893],\n       [0.73156651, 0.2126636 ],\n       [0.22745138, 0.43591671],\n       [0.06110116, 0.71873019],\n       [0.02492607, 0.60948219],\n       [0.13558782, 0.60306729],\n       [0.66865006, 0.29003805],\n       [0.82186618, 0.13102419],\n       [0.09758257, 0.08165507],\n       [0.04335946, 0.93168078],\n       [0.00776474, 0.32548725],\n       [0.18719606, 0.01997985],\n       [0.29687303, 0.28235452],\n       [0.64912839, 0.85620723],\n       [0.07908838, 0.82014115],\n       [0.90210111, 0.30781002],\n       [0.8338392 , 0.42004279],\n       [0.91723927, 0.06017131],\n       [0.17464959, 0.45753909],\n       [0.41776155, 0.42109784],\n       [0.78537799, 0.14734363],\n       [0.26157502, 0.0752572 ],\n       [0.63603275, 0.97018501],\n       [0.65985695, 0.4551511 ],\n       [0.95095342, 0.52337122],\n       [0.78920691, 0.47801689],\n       [0.04373492, 0.84880286],\n       [0.47413486, 0.64919106],\n       [0.85317996, 0.83119285],\n       [0.72781346, 0.61988741],\n       [0.26574547, 0.71917074],\n       [0.90350603, 0.427568  ],\n       [0.88183628, 0.0977123 ],\n       [0.77973809, 0.80125279]])"
     },
     "execution_count": 41,
     "metadata": {},
     "output_type": "execute_result"
    }
   ],
   "source": [
    "arr_load\n"
   ],
   "metadata": {
    "collapsed": false
   }
  },
  {
   "cell_type": "code",
   "execution_count": 44,
   "outputs": [
    {
     "data": {
      "text/plain": "<Figure size 640x480 with 1 Axes>",
      "image/png": "[encoded data removed]"
     },
     "metadata": {},
     "output_type": "display_data"
    }
   ],
   "source": [
    "import matplotlib.pyplot as plt\n",
    "plt.scatter(arr_load[:, 0], arr_load[:, 1])\n",
    "plt.show()\n"
   ],
   "metadata": {
    "collapsed": false
   }
  },
  {
   "cell_type": "code",
   "execution_count": 45,
   "outputs": [],
   "source": [
    "# Create a NumPy array of shape (3, 3) with integer values and\n",
    "# save it to a binary file called \"matrix.bin\". Then, load the\n",
    "# array from the file and compute its determinant using NumPy.\n"
   ],
   "metadata": {
    "collapsed": false
   }
  },
  {
   "cell_type": "code",
   "execution_count": 46,
   "outputs": [],
   "source": [
    "arr = np.random.randint(1, 11, size=(3, 3))\n"
   ],
   "metadata": {
    "collapsed": false
   }
  },
  {
   "cell_type": "code",
   "execution_count": 47,
   "outputs": [
    {
     "data": {
      "text/plain": "array([[ 5,  6, 10],\n       [ 7,  7,  5],\n       [ 2,  9,  4]])"
     },
     "execution_count": 47,
     "metadata": {},
     "output_type": "execute_result"
    }
   ],
   "source": [
    "arr\n"
   ],
   "metadata": {
    "collapsed": false
   }
  },
  {
   "cell_type": "code",
   "execution_count": 48,
   "outputs": [],
   "source": [
    "arr.tofile('matrix.bin')\n"
   ],
   "metadata": {
    "collapsed": false
   }
  },
  {
   "cell_type": "code",
   "execution_count": 49,
   "outputs": [],
   "source": [
    "arr_load = np.fromfile('matrix.bin', dtype=np.int32).reshape(3, 3)\n"
   ],
   "metadata": {
    "collapsed": false
   }
  },
  {
   "cell_type": "code",
   "execution_count": 50,
   "outputs": [
    {
     "data": {
      "text/plain": "array([[ 5,  6, 10],\n       [ 7,  7,  5],\n       [ 2,  9,  4]])"
     },
     "execution_count": 50,
     "metadata": {},
     "output_type": "execute_result"
    }
   ],
   "source": [
    "arr_load\n"
   ],
   "metadata": {
    "collapsed": false
   }
  },
  {
   "cell_type": "code",
   "execution_count": 51,
   "outputs": [],
   "source": [
    "determinant = np.linalg.det(arr_load)\n"
   ],
   "metadata": {
    "collapsed": false
   }
  },
  {
   "cell_type": "code",
   "execution_count": 52,
   "outputs": [
    {
     "data": {
      "text/plain": "297.00000000000006"
     },
     "execution_count": 52,
     "metadata": {},
     "output_type": "execute_result"
    }
   ],
   "source": [
    "determinant\n"
   ],
   "metadata": {
    "collapsed": false
   }
  },
  {
   "cell_type": "code",
   "execution_count": 53,
   "outputs": [],
   "source": [
    "# Create a NumPy array of shape (4, 4) with random values and\n",
    "# save it to a file called \"matrix.npy\". Then, load the array\n",
    "# from the file and compute its eigenvalues and eigenvectors using NumPy.\n"
   ],
   "metadata": {
    "collapsed": false
   }
  },
  {
   "cell_type": "code",
   "execution_count": 54,
   "outputs": [],
   "source": [
    "arr = np.random.randint(1, 11, size=(4, 4))\n"
   ],
   "metadata": {
    "collapsed": false
   }
  },
  {
   "cell_type": "code",
   "execution_count": 55,
   "outputs": [
    {
     "data": {
      "text/plain": "array([[ 2,  2,  8,  2],\n       [ 9,  3, 10,  3],\n       [ 2,  5,  7,  7],\n       [ 2,  6,  8,  4]])"
     },
     "execution_count": 55,
     "metadata": {},
     "output_type": "execute_result"
    }
   ],
   "source": [
    "arr\n"
   ],
   "metadata": {
    "collapsed": false
   }
  },
  {
   "cell_type": "code",
   "execution_count": 57,
   "outputs": [],
   "source": [
    "np.save('matrix', arr)\n"
   ],
   "metadata": {
    "collapsed": false
   }
  },
  {
   "cell_type": "code",
   "execution_count": 58,
   "outputs": [],
   "source": [
    "arr_load = np.load('matrix.npy')\n"
   ],
   "metadata": {
    "collapsed": false
   }
  },
  {
   "cell_type": "code",
   "execution_count": 59,
   "outputs": [
    {
     "data": {
      "text/plain": "array([[ 2,  2,  8,  2],\n       [ 9,  3, 10,  3],\n       [ 2,  5,  7,  7],\n       [ 2,  6,  8,  4]])"
     },
     "execution_count": 59,
     "metadata": {},
     "output_type": "execute_result"
    }
   ],
   "source": [
    "arr_load\n"
   ],
   "metadata": {
    "collapsed": false
   }
  },
  {
   "cell_type": "code",
   "execution_count": 60,
   "outputs": [],
   "source": [
    "eigen_values, eigen_vectors = np.linalg.eig(arr_load)\n"
   ],
   "metadata": {
    "collapsed": false
   }
  },
  {
   "cell_type": "code",
   "execution_count": 61,
   "outputs": [
    {
     "data": {
      "text/plain": "array([20.42465515+0.j        , -0.78436494+3.50380537j,\n       -0.78436494-3.50380537j, -2.85592528+0.j        ])"
     },
     "execution_count": 61,
     "metadata": {},
     "output_type": "execute_result"
    }
   ],
   "source": [
    "eigen_values\n"
   ],
   "metadata": {
    "collapsed": false
   }
  },
  {
   "cell_type": "code",
   "execution_count": 62,
   "outputs": [
    {
     "data": {
      "text/plain": "array([[-0.34965784+0.j        ,  0.14871712+0.38881769j,\n         0.14871712-0.38881769j,  0.45091488+0.j        ],\n       [-0.57496837+0.j        ,  0.75558652+0.j        ,\n         0.75558652-0.j        , -0.49381561+0.j        ],\n       [-0.53343876+0.j        , -0.36676335+0.00481469j,\n        -0.36676335-0.00481469j, -0.31824   +0.j        ],\n       [-0.51243913+0.j        , -0.17674527-0.30002601j,\n        -0.17674527+0.30002601j,  0.67197114+0.j        ]])"
     },
     "execution_count": 62,
     "metadata": {},
     "output_type": "execute_result"
    }
   ],
   "source": [
    "eigen_vectors\n"
   ],
   "metadata": {
    "collapsed": false
   }
  },
  {
   "cell_type": "code",
   "execution_count": 63,
   "outputs": [],
   "source": [
    "# Create a NumPy array of shape (5, 3) with random integer\n",
    "# values between 1 and 10, and save it to a text file called\n",
    "# \"grades.txt\". Each row represents a student and each column\n",
    "# represents a subject. Then, load the array from the file and\n",
    "# compute the average grade for each subject.\n"
   ],
   "metadata": {
    "collapsed": false
   }
  },
  {
   "cell_type": "code",
   "execution_count": 70,
   "outputs": [],
   "source": [
    "arr = np.random.randint(50, 100, size=(5, 3))\n"
   ],
   "metadata": {
    "collapsed": false
   }
  },
  {
   "cell_type": "code",
   "execution_count": 71,
   "outputs": [
    {
     "data": {
      "text/plain": "array([[65, 78, 83],\n       [85, 51, 68],\n       [85, 65, 86],\n       [88, 57, 74],\n       [55, 68, 65]])"
     },
     "execution_count": 71,
     "metadata": {},
     "output_type": "execute_result"
    }
   ],
   "source": [
    "arr\n"
   ],
   "metadata": {
    "collapsed": false
   }
  },
  {
   "cell_type": "code",
   "execution_count": 72,
   "outputs": [],
   "source": [
    "np.savetxt('grades.txt', arr)\n"
   ],
   "metadata": {
    "collapsed": false
   }
  },
  {
   "cell_type": "code",
   "execution_count": 73,
   "outputs": [],
   "source": [
    "arr_load = np.loadtxt('grades.txt')\n"
   ],
   "metadata": {
    "collapsed": false
   }
  },
  {
   "cell_type": "code",
   "execution_count": 74,
   "outputs": [],
   "source": [
    "average_grades_per_subject = np.mean(arr_load, axis=0)\n"
   ],
   "metadata": {
    "collapsed": false
   }
  },
  {
   "cell_type": "code",
   "execution_count": 75,
   "outputs": [
    {
     "data": {
      "text/plain": "array([75.6, 63.8, 75.2])"
     },
     "execution_count": 75,
     "metadata": {},
     "output_type": "execute_result"
    }
   ],
   "source": [
    "average_grades_per_subject\n"
   ],
   "metadata": {
    "collapsed": false
   }
  },
  {
   "cell_type": "code",
   "execution_count": null,
   "outputs": [],
   "source": [],
   "metadata": {
    "collapsed": false
   }
  }
 ],
 "metadata": {
  "kernelspec": {
   "display_name": "Python 3 (ipykernel)",
   "language": "python",
   "name": "python3"
  },
  "language_info": {
   "codemirror_mode": {
    "name": "ipython",
    "version": 3
   },
   "file_extension": ".py",
   "mimetype": "text/x-python",
   "name": "python",
   "nbconvert_exporter": "python",
   "pygments_lexer": "ipython3",
   "version": "3.11.2"
  }
 },
 "nbformat": 4,
 "nbformat_minor": 1
}
