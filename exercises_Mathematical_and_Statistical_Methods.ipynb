{
 "cells": [
  {
   "cell_type": "code",
   "execution_count": 1,
   "metadata": {
    "collapsed": true
   },
   "outputs": [],
   "source": [
    "import numpy as np\n",
    "import random\n",
    "import matplotlib.pyplot as plt\n"
   ]
  },
  {
   "cell_type": "code",
   "execution_count": 2,
   "outputs": [],
   "source": [
    "# Create a NumPy array with the numbers 1 to 10 and calculate its\n",
    "# mean, median, and standard deviation.\n"
   ],
   "metadata": {
    "collapsed": false
   }
  },
  {
   "cell_type": "code",
   "execution_count": 3,
   "outputs": [],
   "source": [
    "arr = np.random.random(10)\n"
   ],
   "metadata": {
    "collapsed": false
   }
  },
  {
   "cell_type": "code",
   "execution_count": 4,
   "outputs": [
    {
     "data": {
      "text/plain": "array([0.41980595, 0.03453742, 0.09358443, 0.23244324, 0.01655601,\n       0.57126448, 0.29235308, 0.46468403, 0.15441201, 0.55573802])"
     },
     "execution_count": 4,
     "metadata": {},
     "output_type": "execute_result"
    }
   ],
   "source": [
    "arr\n"
   ],
   "metadata": {
    "collapsed": false
   }
  },
  {
   "cell_type": "code",
   "execution_count": 5,
   "outputs": [],
   "source": [
    "arr_mean = np.mean(arr)\n"
   ],
   "metadata": {
    "collapsed": false
   }
  },
  {
   "cell_type": "code",
   "execution_count": 6,
   "outputs": [],
   "source": [
    "arr_median = np.median(arr)\n"
   ],
   "metadata": {
    "collapsed": false
   }
  },
  {
   "cell_type": "code",
   "execution_count": 7,
   "outputs": [],
   "source": [
    "arr_std = np.std(arr)\n"
   ],
   "metadata": {
    "collapsed": false
   }
  },
  {
   "cell_type": "code",
   "execution_count": 8,
   "outputs": [
    {
     "data": {
      "text/plain": "'Mean: 0.2835378652978556'"
     },
     "execution_count": 8,
     "metadata": {},
     "output_type": "execute_result"
    }
   ],
   "source": [
    "f'Mean: {arr_mean}'"
   ],
   "metadata": {
    "collapsed": false
   }
  },
  {
   "cell_type": "code",
   "execution_count": 9,
   "outputs": [
    {
     "data": {
      "text/plain": "'Median: 0.26239815656130644'"
     },
     "execution_count": 9,
     "metadata": {},
     "output_type": "execute_result"
    }
   ],
   "source": [
    "f'Median: {arr_median}'\n"
   ],
   "metadata": {
    "collapsed": false
   }
  },
  {
   "cell_type": "code",
   "execution_count": 10,
   "outputs": [
    {
     "data": {
      "text/plain": "'Standard Deviation: 0.19924536346411476'"
     },
     "execution_count": 10,
     "metadata": {},
     "output_type": "execute_result"
    }
   ],
   "source": [
    "f'Standard Deviation: {arr_std}'\n"
   ],
   "metadata": {
    "collapsed": false
   }
  },
  {
   "cell_type": "code",
   "execution_count": 11,
   "outputs": [
    {
     "data": {
      "text/plain": "<Figure size 640x480 with 1 Axes>",
      "image/png": "[encoded data removed]"
     },
     "metadata": {},
     "output_type": "display_data"
    }
   ],
   "source": [
    "plt.hist(arr)\n",
    "plt.show()\n"
   ],
   "metadata": {
    "collapsed": false
   }
  },
  {
   "cell_type": "code",
   "execution_count": 12,
   "outputs": [],
   "source": [
    "# Create a 2D NumPy array with 3 rows and 4 columns,\n",
    "# and print out its dimensions and shape."
   ],
   "metadata": {
    "collapsed": false
   }
  },
  {
   "cell_type": "code",
   "execution_count": 13,
   "outputs": [],
   "source": [
    "arr = np.random.randint(1, 13, size=(3, 4))\n"
   ],
   "metadata": {
    "collapsed": false
   }
  },
  {
   "cell_type": "code",
   "execution_count": 14,
   "outputs": [
    {
     "data": {
      "text/plain": "array([[ 7,  8,  4,  7],\n       [ 4,  4,  7, 10],\n       [ 4,  3, 10,  2]])"
     },
     "execution_count": 14,
     "metadata": {},
     "output_type": "execute_result"
    }
   ],
   "source": [
    "arr\n"
   ],
   "metadata": {
    "collapsed": false
   }
  },
  {
   "cell_type": "code",
   "execution_count": 15,
   "outputs": [
    {
     "data": {
      "text/plain": "'Dimensions: 2'"
     },
     "execution_count": 15,
     "metadata": {},
     "output_type": "execute_result"
    }
   ],
   "source": [
    "f'Dimensions: {arr.ndim}'\n"
   ],
   "metadata": {
    "collapsed": false
   }
  },
  {
   "cell_type": "code",
   "execution_count": 16,
   "outputs": [
    {
     "data": {
      "text/plain": "'Shape: (3, 4)'"
     },
     "execution_count": 16,
     "metadata": {},
     "output_type": "execute_result"
    }
   ],
   "source": [
    "f'Shape: {arr.shape}'\n"
   ],
   "metadata": {
    "collapsed": false
   }
  },
  {
   "cell_type": "code",
   "execution_count": 17,
   "outputs": [],
   "source": [
    "# Create a NumPy array with 10 random integers\n",
    "# between 1 and 100, and calculate its minimum and maximum values.\n"
   ],
   "metadata": {
    "collapsed": false
   }
  },
  {
   "cell_type": "code",
   "execution_count": 18,
   "outputs": [],
   "source": [
    "arr = np.random.randint(1, 101, size=10)\n"
   ],
   "metadata": {
    "collapsed": false
   }
  },
  {
   "cell_type": "code",
   "execution_count": 19,
   "outputs": [
    {
     "data": {
      "text/plain": "array([99,  4, 56, 17, 12, 55, 24, 22, 81, 33])"
     },
     "execution_count": 19,
     "metadata": {},
     "output_type": "execute_result"
    }
   ],
   "source": [
    "arr\n"
   ],
   "metadata": {
    "collapsed": false
   }
  },
  {
   "cell_type": "code",
   "execution_count": 20,
   "outputs": [
    {
     "data": {
      "text/plain": "'Maximum: 99'"
     },
     "execution_count": 20,
     "metadata": {},
     "output_type": "execute_result"
    }
   ],
   "source": [
    "f'Maximum: {np.max(arr)}'\n"
   ],
   "metadata": {
    "collapsed": false
   }
  },
  {
   "cell_type": "code",
   "execution_count": 21,
   "outputs": [
    {
     "data": {
      "text/plain": "'Minimum: 4'"
     },
     "execution_count": 21,
     "metadata": {},
     "output_type": "execute_result"
    }
   ],
   "source": [
    "f'Minimum: {np.min(arr)}'\n"
   ],
   "metadata": {
    "collapsed": false
   }
  },
  {
   "cell_type": "code",
   "execution_count": 22,
   "outputs": [],
   "source": [
    "# Create two NumPy arrays, one with the numbers 1 to 5\n",
    "# and another with the numbers 6 to 10, and concatenate\n",
    "# them into a single array.\n"
   ],
   "metadata": {
    "collapsed": false
   }
  },
  {
   "cell_type": "code",
   "execution_count": 23,
   "outputs": [],
   "source": [
    "a = np.arange(1, 6)\n"
   ],
   "metadata": {
    "collapsed": false
   }
  },
  {
   "cell_type": "code",
   "execution_count": 24,
   "outputs": [
    {
     "data": {
      "text/plain": "array([1, 2, 3, 4, 5])"
     },
     "execution_count": 24,
     "metadata": {},
     "output_type": "execute_result"
    }
   ],
   "source": [
    "a\n"
   ],
   "metadata": {
    "collapsed": false
   }
  },
  {
   "cell_type": "code",
   "execution_count": 25,
   "outputs": [],
   "source": [
    "b = np.arange(6, 11)\n"
   ],
   "metadata": {
    "collapsed": false
   }
  },
  {
   "cell_type": "code",
   "execution_count": 26,
   "outputs": [
    {
     "data": {
      "text/plain": "array([ 6,  7,  8,  9, 10])"
     },
     "execution_count": 26,
     "metadata": {},
     "output_type": "execute_result"
    }
   ],
   "source": [
    "b\n"
   ],
   "metadata": {
    "collapsed": false
   }
  },
  {
   "cell_type": "code",
   "execution_count": 27,
   "outputs": [],
   "source": [
    "ab = np.concatenate((a, b))\n"
   ],
   "metadata": {
    "collapsed": false
   }
  },
  {
   "cell_type": "code",
   "execution_count": 28,
   "outputs": [
    {
     "data": {
      "text/plain": "array([ 1,  2,  3,  4,  5,  6,  7,  8,  9, 10])"
     },
     "execution_count": 28,
     "metadata": {},
     "output_type": "execute_result"
    }
   ],
   "source": [
    "ab\n"
   ],
   "metadata": {
    "collapsed": false
   }
  },
  {
   "cell_type": "code",
   "execution_count": 29,
   "outputs": [],
   "source": [
    "# Create a NumPy array with 100 random numbers\n",
    "# between 0 and 1, and plot a histogram of the data using Matplotlib.\n"
   ],
   "metadata": {
    "collapsed": false
   }
  },
  {
   "cell_type": "code",
   "execution_count": 30,
   "outputs": [],
   "source": [
    "arr = np.random.random(100)\n"
   ],
   "metadata": {
    "collapsed": false
   }
  },
  {
   "cell_type": "code",
   "execution_count": 31,
   "outputs": [
    {
     "data": {
      "text/plain": "array([0.87680514, 0.36754247, 0.48135227, 0.99555862, 0.64551006,\n       0.53198019, 0.08771718, 0.83882285, 0.1241894 , 0.92597342,\n       0.79489168, 0.72062476, 0.87498452, 0.08579314, 0.45508582,\n       0.74233299, 0.27501436, 0.16377461, 0.3241534 , 0.86208078,\n       0.12594553, 0.04812282, 0.82936339, 0.37828749, 0.44017729,\n       0.38185852, 0.96192345, 0.04366718, 0.06110005, 0.45772296,\n       0.00855137, 0.63358062, 0.93322267, 0.79004244, 0.65398708,\n       0.70062703, 0.08135882, 0.22337505, 0.87621651, 0.49092082,\n       0.27283981, 0.03542344, 0.17087791, 0.5293322 , 0.56863983,\n       0.61964183, 0.45614935, 0.3823821 , 0.10367306, 0.12386306,\n       0.73050145, 0.72287104, 0.01201137, 0.44797998, 0.99051346,\n       0.03311411, 0.96834254, 0.15481597, 0.88282605, 0.43991543,\n       0.73860762, 0.23560417, 0.08354439, 0.23478464, 0.96331398,\n       0.07625765, 0.41275739, 0.26725765, 0.2088916 , 0.22688343,\n       0.28813786, 0.74756735, 0.54329084, 0.55275955, 0.55825953,\n       0.44243548, 0.70769622, 0.52235086, 0.70929922, 0.50940641,\n       0.89142498, 0.6220913 , 0.28779773, 0.45872072, 0.14691614,\n       0.54226438, 0.70819054, 0.39049081, 0.27213222, 0.17861395,\n       0.54078637, 0.78372319, 0.11210585, 0.02426919, 0.53794179,\n       0.31291773, 0.25819329, 0.42930143, 0.52254707, 0.42045132])"
     },
     "execution_count": 31,
     "metadata": {},
     "output_type": "execute_result"
    }
   ],
   "source": [
    "arr\n"
   ],
   "metadata": {
    "collapsed": false
   }
  },
  {
   "cell_type": "code",
   "execution_count": 32,
   "outputs": [
    {
     "data": {
      "text/plain": "<Figure size 640x480 with 1 Axes>",
      "image/png": "[encoded data removed]"
     },
     "metadata": {},
     "output_type": "display_data"
    }
   ],
   "source": [
    "plt.hist(arr)\n",
    "plt.show()\n"
   ],
   "metadata": {
    "collapsed": false
   }
  },
  {
   "cell_type": "code",
   "execution_count": 33,
   "outputs": [],
   "source": [
    "# Create a 2D NumPy array with 100 rows and 2 columns,\n",
    "# where each element is a random number between 0 and 1.\n",
    "# Plot the data as a scatter plot using Matplotlib.\n"
   ],
   "metadata": {
    "collapsed": false
   }
  },
  {
   "cell_type": "code",
   "execution_count": 34,
   "outputs": [],
   "source": [
    "arr = np.random.random((100, 2))\n"
   ],
   "metadata": {
    "collapsed": false
   }
  },
  {
   "cell_type": "code",
   "execution_count": 35,
   "outputs": [
    {
     "data": {
      "text/plain": "array([[0.00156609, 0.50374216],\n       [0.7030364 , 0.45265712],\n       [0.99597989, 0.22065413],\n       [0.22572958, 0.3296746 ],\n       [0.02196258, 0.08896559],\n       [0.86427508, 0.19308049],\n       [0.74573177, 0.18196558],\n       [0.42294303, 0.77047969],\n       [0.36550905, 0.45673595],\n       [0.79082836, 0.32460295],\n       [0.64120282, 0.53155042],\n       [0.46589834, 0.93457098],\n       [0.50971789, 0.84003563],\n       [0.63616859, 0.16793634],\n       [0.01197898, 0.02182081],\n       [0.27207295, 0.82274078],\n       [0.13767331, 0.17513931],\n       [0.2117179 , 0.01696973],\n       [0.13660017, 0.81167608],\n       [0.59840768, 0.85485541],\n       [0.36814379, 0.41800237],\n       [0.01968041, 0.58061912],\n       [0.44024594, 0.74303589],\n       [0.30628272, 0.39439675],\n       [0.25418854, 0.14340806],\n       [0.05312796, 0.35010224],\n       [0.85823965, 0.30524958],\n       [0.60205855, 0.34739825],\n       [0.24171778, 0.93768924],\n       [0.83666969, 0.49143155],\n       [0.62924094, 0.81413183],\n       [0.310857  , 0.7690997 ],\n       [0.695027  , 0.60792602],\n       [0.47537745, 0.98393804],\n       [0.95015991, 0.89615121],\n       [0.10540837, 0.9559195 ],\n       [0.1556279 , 0.59063805],\n       [0.20604979, 0.17987406],\n       [0.05959802, 0.51695609],\n       [0.22101979, 0.67998107],\n       [0.98348726, 0.88051104],\n       [0.55380423, 0.69194513],\n       [0.87657523, 0.48335251],\n       [0.96387454, 0.72768398],\n       [0.68378758, 0.443274  ],\n       [0.72797129, 0.51274553],\n       [0.67022279, 0.57904284],\n       [0.30300213, 0.4012672 ],\n       [0.89884766, 0.38552305],\n       [0.5228217 , 0.59520262],\n       [0.25080413, 0.2152045 ],\n       [0.48711974, 0.96685361],\n       [0.09210816, 0.61349181],\n       [0.84793838, 0.33825387],\n       [0.35506601, 0.42719129],\n       [0.79559343, 0.18398402],\n       [0.17607651, 0.05456283],\n       [0.38984599, 0.15747793],\n       [0.72528329, 0.57577142],\n       [0.96459805, 0.24350394],\n       [0.47383147, 0.31824402],\n       [0.60550071, 0.49108434],\n       [0.01810614, 0.91190399],\n       [0.81332192, 0.17921777],\n       [0.98434509, 0.67429183],\n       [0.51259804, 0.55979816],\n       [0.90028637, 0.00473887],\n       [0.04588565, 0.19901616],\n       [0.29084434, 0.09710742],\n       [0.26436222, 0.53657172],\n       [0.10936212, 0.92708421],\n       [0.94554273, 0.81900314],\n       [0.1446783 , 0.00292299],\n       [0.02925653, 0.78205982],\n       [0.43569184, 0.30557624],\n       [0.87600404, 0.96319581],\n       [0.14219516, 0.65598247],\n       [0.96446732, 0.13963152],\n       [0.03072477, 0.79473958],\n       [0.1417459 , 0.72417358],\n       [0.14992468, 0.17708003],\n       [0.97141932, 0.44542678],\n       [0.65450116, 0.64648726],\n       [0.57760254, 0.86279387],\n       [0.32484782, 0.50548947],\n       [0.11552017, 0.39604426],\n       [0.30986427, 0.35100271],\n       [0.57700953, 0.87697255],\n       [0.56208518, 0.44093236],\n       [0.1746088 , 0.98328639],\n       [0.83088858, 0.2170856 ],\n       [0.93153127, 0.61462419],\n       [0.90368003, 0.08231426],\n       [0.55104268, 0.76546476],\n       [0.54891508, 0.52512698],\n       [0.60079834, 0.7013517 ],\n       [0.72006516, 0.11516648],\n       [0.46132535, 0.69416798],\n       [0.08656904, 0.88758147],\n       [0.21548474, 0.64535006]])"
     },
     "execution_count": 35,
     "metadata": {},
     "output_type": "execute_result"
    }
   ],
   "source": [
    "arr\n"
   ],
   "metadata": {
    "collapsed": false
   }
  },
  {
   "cell_type": "code",
   "execution_count": 36,
   "outputs": [],
   "source": [
    "x = arr[:, 0]\n"
   ],
   "metadata": {
    "collapsed": false
   }
  },
  {
   "cell_type": "code",
   "execution_count": 37,
   "outputs": [
    {
     "data": {
      "text/plain": "array([0.00156609, 0.7030364 , 0.99597989, 0.22572958, 0.02196258,\n       0.86427508, 0.74573177, 0.42294303, 0.36550905, 0.79082836,\n       0.64120282, 0.46589834, 0.50971789, 0.63616859, 0.01197898,\n       0.27207295, 0.13767331, 0.2117179 , 0.13660017, 0.59840768,\n       0.36814379, 0.01968041, 0.44024594, 0.30628272, 0.25418854,\n       0.05312796, 0.85823965, 0.60205855, 0.24171778, 0.83666969,\n       0.62924094, 0.310857  , 0.695027  , 0.47537745, 0.95015991,\n       0.10540837, 0.1556279 , 0.20604979, 0.05959802, 0.22101979,\n       0.98348726, 0.55380423, 0.87657523, 0.96387454, 0.68378758,\n       0.72797129, 0.67022279, 0.30300213, 0.89884766, 0.5228217 ,\n       0.25080413, 0.48711974, 0.09210816, 0.84793838, 0.35506601,\n       0.79559343, 0.17607651, 0.38984599, 0.72528329, 0.96459805,\n       0.47383147, 0.60550071, 0.01810614, 0.81332192, 0.98434509,\n       0.51259804, 0.90028637, 0.04588565, 0.29084434, 0.26436222,\n       0.10936212, 0.94554273, 0.1446783 , 0.02925653, 0.43569184,\n       0.87600404, 0.14219516, 0.96446732, 0.03072477, 0.1417459 ,\n       0.14992468, 0.97141932, 0.65450116, 0.57760254, 0.32484782,\n       0.11552017, 0.30986427, 0.57700953, 0.56208518, 0.1746088 ,\n       0.83088858, 0.93153127, 0.90368003, 0.55104268, 0.54891508,\n       0.60079834, 0.72006516, 0.46132535, 0.08656904, 0.21548474])"
     },
     "execution_count": 37,
     "metadata": {},
     "output_type": "execute_result"
    }
   ],
   "source": [
    "x\n"
   ],
   "metadata": {
    "collapsed": false
   }
  },
  {
   "cell_type": "code",
   "execution_count": 38,
   "outputs": [],
   "source": [
    "y = arr[:, 1]\n"
   ],
   "metadata": {
    "collapsed": false
   }
  },
  {
   "cell_type": "code",
   "execution_count": 39,
   "outputs": [
    {
     "data": {
      "text/plain": "array([0.50374216, 0.45265712, 0.22065413, 0.3296746 , 0.08896559,\n       0.19308049, 0.18196558, 0.77047969, 0.45673595, 0.32460295,\n       0.53155042, 0.93457098, 0.84003563, 0.16793634, 0.02182081,\n       0.82274078, 0.17513931, 0.01696973, 0.81167608, 0.85485541,\n       0.41800237, 0.58061912, 0.74303589, 0.39439675, 0.14340806,\n       0.35010224, 0.30524958, 0.34739825, 0.93768924, 0.49143155,\n       0.81413183, 0.7690997 , 0.60792602, 0.98393804, 0.89615121,\n       0.9559195 , 0.59063805, 0.17987406, 0.51695609, 0.67998107,\n       0.88051104, 0.69194513, 0.48335251, 0.72768398, 0.443274  ,\n       0.51274553, 0.57904284, 0.4012672 , 0.38552305, 0.59520262,\n       0.2152045 , 0.96685361, 0.61349181, 0.33825387, 0.42719129,\n       0.18398402, 0.05456283, 0.15747793, 0.57577142, 0.24350394,\n       0.31824402, 0.49108434, 0.91190399, 0.17921777, 0.67429183,\n       0.55979816, 0.00473887, 0.19901616, 0.09710742, 0.53657172,\n       0.92708421, 0.81900314, 0.00292299, 0.78205982, 0.30557624,\n       0.96319581, 0.65598247, 0.13963152, 0.79473958, 0.72417358,\n       0.17708003, 0.44542678, 0.64648726, 0.86279387, 0.50548947,\n       0.39604426, 0.35100271, 0.87697255, 0.44093236, 0.98328639,\n       0.2170856 , 0.61462419, 0.08231426, 0.76546476, 0.52512698,\n       0.7013517 , 0.11516648, 0.69416798, 0.88758147, 0.64535006])"
     },
     "execution_count": 39,
     "metadata": {},
     "output_type": "execute_result"
    }
   ],
   "source": [
    "y\n"
   ],
   "metadata": {
    "collapsed": false
   }
  },
  {
   "cell_type": "code",
   "execution_count": 40,
   "outputs": [
    {
     "data": {
      "text/plain": "<Figure size 640x480 with 1 Axes>",
      "image/png": "[encoded data removed]"
     },
     "metadata": {},
     "output_type": "display_data"
    }
   ],
   "source": [
    "plt.scatter(x, y)\n",
    "plt.show()\n"
   ],
   "metadata": {
    "collapsed": false
   }
  },
  {
   "cell_type": "code",
   "execution_count": 41,
   "outputs": [],
   "source": [
    "# Create a 1D NumPy array with 20 elements,\n",
    "# where the values are the square roots of the numbers\n",
    "# from 1 to 20. Use NumPy to calculate the mean, median,\n",
    "# and standard deviation of the array.\n"
   ],
   "metadata": {
    "collapsed": false
   }
  },
  {
   "cell_type": "code",
   "execution_count": 42,
   "outputs": [],
   "source": [
    "arr = np.random.randint(1, 21, size=20)\n"
   ],
   "metadata": {
    "collapsed": false
   }
  },
  {
   "cell_type": "code",
   "execution_count": 44,
   "outputs": [
    {
     "data": {
      "text/plain": "array([ 49, 256,   4,  25, 324, 289, 100,  64,  64, 169,  81, 196,  25,\n         1,   4,  81, 121, 256, 225, 289])"
     },
     "execution_count": 44,
     "metadata": {},
     "output_type": "execute_result"
    }
   ],
   "source": [
    "arr\n"
   ],
   "metadata": {
    "collapsed": false
   }
  },
  {
   "cell_type": "code",
   "execution_count": 45,
   "outputs": [],
   "source": [
    "arr_sqrt = np.sqrt(arr)\n"
   ],
   "metadata": {
    "collapsed": false
   }
  },
  {
   "cell_type": "code",
   "execution_count": 46,
   "outputs": [
    {
     "data": {
      "text/plain": "array([ 7., 16.,  2.,  5., 18., 17., 10.,  8.,  8., 13.,  9., 14.,  5.,\n        1.,  2.,  9., 11., 16., 15., 17.])"
     },
     "execution_count": 46,
     "metadata": {},
     "output_type": "execute_result"
    }
   ],
   "source": [
    "arr_sqrt\n"
   ],
   "metadata": {
    "collapsed": false
   }
  },
  {
   "cell_type": "code",
   "execution_count": 47,
   "outputs": [
    {
     "data": {
      "text/plain": "'Mean: 10.15'"
     },
     "execution_count": 47,
     "metadata": {},
     "output_type": "execute_result"
    }
   ],
   "source": [
    "f'Mean: {np.mean(arr_sqrt)}'\n"
   ],
   "metadata": {
    "collapsed": false
   }
  },
  {
   "cell_type": "code",
   "execution_count": 48,
   "outputs": [
    {
     "data": {
      "text/plain": "'Median: 9.5'"
     },
     "execution_count": 48,
     "metadata": {},
     "output_type": "execute_result"
    }
   ],
   "source": [
    "f'Median: {np.median(arr_sqrt)}'\n"
   ],
   "metadata": {
    "collapsed": false
   }
  },
  {
   "cell_type": "code",
   "execution_count": 49,
   "outputs": [
    {
     "data": {
      "text/plain": "'Standard Deviation: 5.303536555921907'"
     },
     "execution_count": 49,
     "metadata": {},
     "output_type": "execute_result"
    }
   ],
   "source": [
    "f'Standard Deviation: {np.std(arr_sqrt)}'\n"
   ],
   "metadata": {
    "collapsed": false
   }
  },
  {
   "cell_type": "code",
   "execution_count": 50,
   "outputs": [],
   "source": [
    "# Create a 3D NumPy array with shape (3, 4, 5),\n",
    "# where each element is a random integer between 1 and 10.\n",
    "# Use NumPy to calculate the mean of each 2D slice along\n",
    "# the first dimension.\n"
   ],
   "metadata": {
    "collapsed": false
   }
  },
  {
   "cell_type": "code",
   "execution_count": 51,
   "outputs": [],
   "source": [
    "arr = np.random.randint(1, 11, size=(3, 4, 5))\n"
   ],
   "metadata": {
    "collapsed": false
   }
  },
  {
   "cell_type": "code",
   "execution_count": 52,
   "outputs": [
    {
     "data": {
      "text/plain": "array([[[ 7,  2,  1,  7,  9],\n        [ 5,  1,  1,  7,  2],\n        [ 5,  1,  7,  3,  2],\n        [10,  3,  5,  4,  7]],\n\n       [[ 8,  3,  6,  7,  5],\n        [ 3,  9,  4,  8,  5],\n        [ 9,  5,  6,  5,  3],\n        [ 7,  3,  2,  1,  9]],\n\n       [[ 7,  1,  8,  2,  5],\n        [ 7,  7,  6,  6,  3],\n        [ 1,  6,  7,  5,  4],\n        [ 9,  2,  2,  4,  7]]])"
     },
     "execution_count": 52,
     "metadata": {},
     "output_type": "execute_result"
    }
   ],
   "source": [
    "arr\n"
   ],
   "metadata": {
    "collapsed": false
   }
  },
  {
   "cell_type": "code",
   "execution_count": 55,
   "outputs": [],
   "source": [
    "mean_slice = np.mean(arr, axis=0)\n"
   ],
   "metadata": {
    "collapsed": false
   }
  },
  {
   "cell_type": "code",
   "execution_count": 71,
   "outputs": [
    {
     "data": {
      "text/plain": "array([[7.33333333, 2.        , 5.        , 5.33333333, 6.33333333],\n       [5.        , 5.66666667, 3.66666667, 7.        , 3.33333333],\n       [5.        , 4.        , 6.66666667, 4.33333333, 3.        ],\n       [8.66666667, 2.66666667, 3.        , 3.        , 7.66666667]])"
     },
     "execution_count": 71,
     "metadata": {},
     "output_type": "execute_result"
    }
   ],
   "source": [
    "mean_slice"
   ],
   "metadata": {
    "collapsed": false
   }
  },
  {
   "cell_type": "code",
   "execution_count": 72,
   "outputs": [],
   "source": [
    "# Create a 2D NumPy array with 10 rows and 3 columns,\n",
    "# where each element is a random integer between 0 and 9.\n",
    "# Use NumPy to find the row with the highest sum.\n"
   ],
   "metadata": {
    "collapsed": false
   }
  },
  {
   "cell_type": "code",
   "execution_count": 73,
   "outputs": [],
   "source": [
    "arr = np.random.randint(0, 10, size=(10, 3))\n"
   ],
   "metadata": {
    "collapsed": false
   }
  },
  {
   "cell_type": "code",
   "execution_count": 74,
   "outputs": [
    {
     "data": {
      "text/plain": "array([[8, 8, 1],\n       [3, 9, 2],\n       [0, 2, 4],\n       [3, 6, 4],\n       [4, 2, 4],\n       [5, 6, 2],\n       [1, 7, 5],\n       [0, 1, 1],\n       [8, 8, 8],\n       [2, 5, 4]])"
     },
     "execution_count": 74,
     "metadata": {},
     "output_type": "execute_result"
    }
   ],
   "source": [
    "arr\n"
   ],
   "metadata": {
    "collapsed": false
   }
  },
  {
   "cell_type": "code",
   "execution_count": 82,
   "outputs": [],
   "source": [
    "row_sums = np.sum(arr, axis=1)\n"
   ],
   "metadata": {
    "collapsed": false
   }
  },
  {
   "cell_type": "code",
   "execution_count": 83,
   "outputs": [
    {
     "data": {
      "text/plain": "array([17, 14,  6, 13, 10, 13, 13,  2, 24, 11])"
     },
     "execution_count": 83,
     "metadata": {},
     "output_type": "execute_result"
    }
   ],
   "source": [
    "row_sums"
   ],
   "metadata": {
    "collapsed": false
   }
  },
  {
   "cell_type": "code",
   "execution_count": 84,
   "outputs": [
    {
     "data": {
      "text/plain": "24"
     },
     "execution_count": 84,
     "metadata": {},
     "output_type": "execute_result"
    }
   ],
   "source": [
    "np.max(row_sums)\n"
   ],
   "metadata": {
    "collapsed": false
   }
  },
  {
   "cell_type": "code",
   "execution_count": 85,
   "outputs": [],
   "source": [
    "max_row_index = np.argmax(row_sums)\n"
   ],
   "metadata": {
    "collapsed": false
   }
  },
  {
   "cell_type": "code",
   "execution_count": 86,
   "outputs": [
    {
     "data": {
      "text/plain": "8"
     },
     "execution_count": 86,
     "metadata": {},
     "output_type": "execute_result"
    }
   ],
   "source": [
    "max_row_index\n"
   ],
   "metadata": {
    "collapsed": false
   }
  },
  {
   "cell_type": "code",
   "execution_count": 87,
   "outputs": [],
   "source": [
    "# Create a 2D NumPy array with 100 rows and 2 columns,\n",
    "# where each element is a random number between 0 and 1.\n",
    "# Use NumPy to find the two points in the array that are farthest\n",
    "# apart, and plot a line between them using Matplotlib.\n"
   ],
   "metadata": {
    "collapsed": false
   }
  },
  {
   "cell_type": "code",
   "execution_count": 90,
   "outputs": [],
   "source": [
    "arr = np.random.random(size=(100, 2))\n"
   ],
   "metadata": {
    "collapsed": false
   }
  },
  {
   "cell_type": "code",
   "execution_count": 91,
   "outputs": [
    {
     "data": {
      "text/plain": "array([[0.86700582, 0.36238552],\n       [0.71582861, 0.8381898 ],\n       [0.13999899, 0.56479971],\n       [0.32593875, 0.5832436 ],\n       [0.27872497, 0.88088329],\n       [0.25219471, 0.08271379],\n       [0.15169158, 0.49171459],\n       [0.67000565, 0.74950132],\n       [0.90804883, 0.51862631],\n       [0.72541423, 0.62706351],\n       [0.84324748, 0.45588162],\n       [0.32432014, 0.3578998 ],\n       [0.64680418, 0.6926483 ],\n       [0.98525886, 0.64408673],\n       [0.50877071, 0.77099722],\n       [0.53602334, 0.51792802],\n       [0.60933153, 0.6051399 ],\n       [0.18572854, 0.50646359],\n       [0.9861265 , 0.97947542],\n       [0.89898966, 0.22851067],\n       [0.0559569 , 0.84786014],\n       [0.192712  , 0.60188101],\n       [0.73055751, 0.54856629],\n       [0.66123683, 0.03884695],\n       [0.67777961, 0.41349468],\n       [0.07720225, 0.80342333],\n       [0.45687881, 0.62708768],\n       [0.56099975, 0.75762461],\n       [0.59162757, 0.48643425],\n       [0.03480867, 0.68457123],\n       [0.36294636, 0.07595892],\n       [0.98459317, 0.82613012],\n       [0.449595  , 0.70016978],\n       [0.87794937, 0.67102467],\n       [0.6419863 , 0.42518813],\n       [0.07707648, 0.78356823],\n       [0.8400367 , 0.30842388],\n       [0.1959258 , 0.6107166 ],\n       [0.33366301, 0.61615538],\n       [0.67739439, 0.92064969],\n       [0.70787213, 0.16192491],\n       [0.2087715 , 0.38052631],\n       [0.41877766, 0.75239764],\n       [0.04509247, 0.29050403],\n       [0.1334038 , 0.68096234],\n       [0.7984691 , 0.77780353],\n       [0.37384187, 0.49348534],\n       [0.5256365 , 0.53940959],\n       [0.60229368, 0.81300469],\n       [0.42456262, 0.65140849],\n       [0.35401433, 0.76883429],\n       [0.05399181, 0.81504766],\n       [0.66531382, 0.8178012 ],\n       [0.67638785, 0.14935134],\n       [0.3695282 , 0.4363858 ],\n       [0.91844837, 0.74344435],\n       [0.41662501, 0.67396883],\n       [0.54138207, 0.96707006],\n       [0.66329243, 0.11542105],\n       [0.89911589, 0.00328319],\n       [0.43972082, 0.35135926],\n       [0.9278569 , 0.44425382],\n       [0.69139595, 0.79989365],\n       [0.16586485, 0.32428166],\n       [0.6437875 , 0.72901167],\n       [0.00802753, 0.49216047],\n       [0.77698204, 0.33508569],\n       [0.26876442, 0.70613099],\n       [0.47526535, 0.81847224],\n       [0.72149808, 0.12428695],\n       [0.42452081, 0.03470571],\n       [0.819855  , 0.84816279],\n       [0.32393248, 0.71181969],\n       [0.19153919, 0.37884793],\n       [0.59332416, 0.76117726],\n       [0.38489825, 0.09786722],\n       [0.91643244, 0.10092481],\n       [0.91390319, 0.45894511],\n       [0.15262194, 0.52973027],\n       [0.06071406, 0.76182497],\n       [0.10842081, 0.19960448],\n       [0.80491513, 0.21412568],\n       [0.83515195, 0.33125004],\n       [0.40290053, 0.06315409],\n       [0.63049354, 0.69680166],\n       [0.46011046, 0.8786243 ],\n       [0.93623103, 0.60231423],\n       [0.1717469 , 0.53664971],\n       [0.67908291, 0.48340904],\n       [0.55735688, 0.8232171 ],\n       [0.48628678, 0.40237259],\n       [0.0395254 , 0.00961176],\n       [0.8554328 , 0.90812474],\n       [0.75743794, 0.05727476],\n       [0.3593726 , 0.55656068],\n       [0.29852477, 0.55557539],\n       [0.14154404, 0.85319041],\n       [0.16007655, 0.72279095],\n       [0.41564025, 0.32838505],\n       [0.72393104, 0.67394205]])"
     },
     "execution_count": 91,
     "metadata": {},
     "output_type": "execute_result"
    }
   ],
   "source": [
    "arr\n"
   ],
   "metadata": {
    "collapsed": false
   }
  },
  {
   "cell_type": "code",
   "execution_count": 92,
   "outputs": [],
   "source": [
    "distance = np.sqrt(np.sum((arr[:, np.newaxis, :] - arr) ** 2, axis=1))\n"
   ],
   "metadata": {
    "collapsed": false
   }
  },
  {
   "cell_type": "code",
   "execution_count": 93,
   "outputs": [],
   "source": [
    "i, j = np.unravel_index(np.argmax(distance), distance.shape)\n"
   ],
   "metadata": {
    "collapsed": false
   }
  },
  {
   "cell_type": "code",
   "execution_count": 94,
   "outputs": [
    {
     "data": {
      "text/plain": "<Figure size 640x480 with 1 Axes>",
      "image/png": "[encoded data removed]"
     },
     "metadata": {},
     "output_type": "display_data"
    }
   ],
   "source": [
    "plt.scatter(arr[:, 0], arr[:, 1])\n",
    "plt.plot([arr[i, 0], arr[j, 0]],[arr[i, 1], arr[j, 1]], 'r')\n",
    "plt.show()\n"
   ],
   "metadata": {
    "collapsed": false
   }
  },
  {
   "cell_type": "code",
   "execution_count": null,
   "outputs": [],
   "source": [],
   "metadata": {
    "collapsed": false
   }
  }
 ],
 "metadata": {
  "kernelspec": {
   "display_name": "Python 3 (ipykernel)",
   "language": "python",
   "name": "python3"
  },
  "language_info": {
   "codemirror_mode": {
    "name": "ipython",
    "version": 3
   },
   "file_extension": ".py",
   "mimetype": "text/x-python",
   "name": "python",
   "nbconvert_exporter": "python",
   "pygments_lexer": "ipython3",
   "version": "3.11.2"
  }
 },
 "nbformat": 4,
 "nbformat_minor": 1
}
